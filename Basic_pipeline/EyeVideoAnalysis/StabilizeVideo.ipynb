{
 "cells": [
  {
   "cell_type": "code",
   "execution_count": 2,
   "id": "fb6a33a3",
   "metadata": {},
   "outputs": [
    {
     "name": "stdout",
     "output_type": "stream",
     "text": [
      "Collecting vidstabNote: you may need to restart the kernel to use updated packages.\n",
      "\n",
      "  Downloading vidstab-1.7.4-py2.py3-none-any.whl.metadata (16 kB)\n",
      "Requirement already satisfied: numpy in c:\\users\\marks9\\anaconda3\\envs\\fullpy\\lib\\site-packages (from vidstab) (1.26.4)\n",
      "Collecting imutils>=0.5.2 (from vidstab)\n",
      "  Downloading imutils-0.5.4.tar.gz (17 kB)\n",
      "  Preparing metadata (setup.py): started\n",
      "  Preparing metadata (setup.py): finished with status 'done'\n",
      "Collecting progress (from vidstab)\n",
      "  Downloading progress-1.6.1-py3-none-any.whl.metadata (4.3 kB)\n",
      "Requirement already satisfied: matplotlib in c:\\users\\marks9\\anaconda3\\envs\\fullpy\\lib\\site-packages (from vidstab) (3.9.2)\n",
      "Requirement already satisfied: contourpy>=1.0.1 in c:\\users\\marks9\\anaconda3\\envs\\fullpy\\lib\\site-packages (from matplotlib->vidstab) (1.2.0)\n",
      "Requirement already satisfied: cycler>=0.10 in c:\\users\\marks9\\anaconda3\\envs\\fullpy\\lib\\site-packages (from matplotlib->vidstab) (0.11.0)\n",
      "Requirement already satisfied: fonttools>=4.22.0 in c:\\users\\marks9\\anaconda3\\envs\\fullpy\\lib\\site-packages (from matplotlib->vidstab) (4.51.0)\n",
      "Requirement already satisfied: kiwisolver>=1.3.1 in c:\\users\\marks9\\anaconda3\\envs\\fullpy\\lib\\site-packages (from matplotlib->vidstab) (1.4.4)\n",
      "Requirement already satisfied: packaging>=20.0 in c:\\users\\marks9\\anaconda3\\envs\\fullpy\\lib\\site-packages (from matplotlib->vidstab) (24.1)\n",
      "Requirement already satisfied: pillow>=8 in c:\\users\\marks9\\anaconda3\\envs\\fullpy\\lib\\site-packages (from matplotlib->vidstab) (10.4.0)\n",
      "Requirement already satisfied: pyparsing>=2.3.1 in c:\\users\\marks9\\anaconda3\\envs\\fullpy\\lib\\site-packages (from matplotlib->vidstab) (3.2.0)\n",
      "Requirement already satisfied: python-dateutil>=2.7 in c:\\users\\marks9\\anaconda3\\envs\\fullpy\\lib\\site-packages (from matplotlib->vidstab) (2.9.0.post0)\n",
      "Requirement already satisfied: six>=1.5 in c:\\users\\marks9\\anaconda3\\envs\\fullpy\\lib\\site-packages (from python-dateutil>=2.7->matplotlib->vidstab) (1.16.0)\n",
      "Downloading vidstab-1.7.4-py2.py3-none-any.whl (26 kB)\n",
      "Downloading progress-1.6.1-py3-none-any.whl (9.8 kB)\n",
      "Building wheels for collected packages: imutils\n",
      "  Building wheel for imutils (setup.py): started\n",
      "  Building wheel for imutils (setup.py): finished with status 'done'\n",
      "  Created wheel for imutils: filename=imutils-0.5.4-py3-none-any.whl size=25857 sha256=3b281da9e072193d43ea18aa5ff9da9dd4761813eb8470e1a99a5f3fdf8a178b\n",
      "  Stored in directory: c:\\users\\marks9\\appdata\\local\\pip\\cache\\wheels\\5b\\76\\96\\ad0c321506837bef578cf3008df3916c23018435a355d9f6b1\n",
      "Successfully built imutils\n",
      "Installing collected packages: imutils, progress, vidstab\n",
      "Successfully installed imutils-0.5.4 progress-1.6.1 vidstab-1.7.4\n"
     ]
    }
   ],
   "source": [
    "%pip install vidstab\n"
   ]
  },
  {
   "cell_type": "code",
   "execution_count": 4,
   "id": "4c10eddd",
   "metadata": {},
   "outputs": [
    {
     "name": "stderr",
     "output_type": "stream",
     "text": [
      "<>:4: SyntaxWarning: invalid escape sequence '\\L'\n",
      "<>:5: SyntaxWarning: invalid escape sequence '\\L'\n",
      "<>:4: SyntaxWarning: invalid escape sequence '\\L'\n",
      "<>:5: SyntaxWarning: invalid escape sequence '\\L'\n",
      "C:\\Users\\MarkS9\\AppData\\Local\\Temp\\ipykernel_4392\\3635110764.py:4: SyntaxWarning: invalid escape sequence '\\L'\n",
      "  stabilizer.stabilize(input_path='W:\\Large_scale_mapping_NP\\lizards\\PV51\\PV51_Experiment_20_8_25\\Insertion1\\PV51_insertion1_Camera1_20250820-152602.mp4',\n",
      "C:\\Users\\MarkS9\\AppData\\Local\\Temp\\ipykernel_4392\\3635110764.py:5: SyntaxWarning: invalid escape sequence '\\L'\n",
      "  output_path='W:\\Large_scale_mapping_NP\\lizards\\PV51\\PV51_Experiment_20_8_25\\Insertion1\\PV51_insertion1_Camera1_20250820-152602_stabilized.mp4')\n",
      "C:\\Users\\MarkS9\\AppData\\Local\\Temp\\ipykernel_4392\\3635110764.py:4: SyntaxWarning: invalid escape sequence '\\L'\n",
      "  stabilizer.stabilize(input_path='W:\\Large_scale_mapping_NP\\lizards\\PV51\\PV51_Experiment_20_8_25\\Insertion1\\PV51_insertion1_Camera1_20250820-152602.mp4',\n",
      "C:\\Users\\MarkS9\\AppData\\Local\\Temp\\ipykernel_4392\\3635110764.py:5: SyntaxWarning: invalid escape sequence '\\L'\n",
      "  output_path='W:\\Large_scale_mapping_NP\\lizards\\PV51\\PV51_Experiment_20_8_25\\Insertion1\\PV51_insertion1_Camera1_20250820-152602_stabilized.mp4')\n"
     ]
    },
    {
     "ename": "KeyboardInterrupt",
     "evalue": "",
     "output_type": "error",
     "traceback": [
      "\u001b[1;31m---------------------------------------------------------------------------\u001b[0m",
      "\u001b[1;31mKeyboardInterrupt\u001b[0m                         Traceback (most recent call last)",
      "Cell \u001b[1;32mIn[4], line 4\u001b[0m\n\u001b[0;32m      1\u001b[0m \u001b[38;5;28;01mfrom\u001b[39;00m \u001b[38;5;21;01mvidstab\u001b[39;00m \u001b[38;5;28;01mimport\u001b[39;00m VidStab\n\u001b[0;32m      3\u001b[0m stabilizer \u001b[38;5;241m=\u001b[39m VidStab()\n\u001b[1;32m----> 4\u001b[0m stabilizer\u001b[38;5;241m.\u001b[39mstabilize(input_path\u001b[38;5;241m=\u001b[39m\u001b[38;5;124m'\u001b[39m\u001b[38;5;124mW:\u001b[39m\u001b[38;5;124m\\\u001b[39m\u001b[38;5;124mLarge_scale_mapping_NP\u001b[39m\u001b[38;5;124m\\\u001b[39m\u001b[38;5;124mlizards\u001b[39m\u001b[38;5;124m\\\u001b[39m\u001b[38;5;124mPV51\u001b[39m\u001b[38;5;124m\\\u001b[39m\u001b[38;5;124mPV51_Experiment_20_8_25\u001b[39m\u001b[38;5;124m\\\u001b[39m\u001b[38;5;124mInsertion1\u001b[39m\u001b[38;5;124m\\\u001b[39m\u001b[38;5;124mPV51_insertion1_Camera1_20250820-152602.mp4\u001b[39m\u001b[38;5;124m'\u001b[39m,\n\u001b[0;32m      5\u001b[0m                       output_path\u001b[38;5;241m=\u001b[39m\u001b[38;5;124m'\u001b[39m\u001b[38;5;124mW:\u001b[39m\u001b[38;5;124m\\\u001b[39m\u001b[38;5;124mLarge_scale_mapping_NP\u001b[39m\u001b[38;5;124m\\\u001b[39m\u001b[38;5;124mlizards\u001b[39m\u001b[38;5;124m\\\u001b[39m\u001b[38;5;124mPV51\u001b[39m\u001b[38;5;124m\\\u001b[39m\u001b[38;5;124mPV51_Experiment_20_8_25\u001b[39m\u001b[38;5;124m\\\u001b[39m\u001b[38;5;124mInsertion1\u001b[39m\u001b[38;5;124m\\\u001b[39m\u001b[38;5;124mPV51_insertion1_Camera1_20250820-152602_stabilized.mp4\u001b[39m\u001b[38;5;124m'\u001b[39m)\n",
      "File \u001b[1;32mc:\\Users\\MarkS9\\anaconda3\\envs\\fullPy\\Lib\\site-packages\\vidstab\\VidStab.py:595\u001b[0m, in \u001b[0;36mVidStab.stabilize\u001b[1;34m(self, input_path, output_path, smoothing_window, max_frames, border_type, border_size, layer_func, playback, use_stored_transforms, show_progress, output_fourcc, output_fps)\u001b[0m\n\u001b[0;32m    592\u001b[0m     \u001b[38;5;28mself\u001b[39m\u001b[38;5;241m.\u001b[39mextreme_frame_corners \u001b[38;5;241m=\u001b[39m auto_border_utils\u001b[38;5;241m.\u001b[39mextreme_corners(frame_1\u001b[38;5;241m.\u001b[39mimage, \u001b[38;5;28mself\u001b[39m\u001b[38;5;241m.\u001b[39mtransforms)\n\u001b[0;32m    593\u001b[0m     border_size \u001b[38;5;241m=\u001b[39m auto_border_utils\u001b[38;5;241m.\u001b[39mmin_auto_border_size(\u001b[38;5;28mself\u001b[39m\u001b[38;5;241m.\u001b[39mextreme_frame_corners)\n\u001b[1;32m--> 595\u001b[0m \u001b[38;5;28mself\u001b[39m\u001b[38;5;241m.\u001b[39m_apply_transforms(output_path, max_frames, use_stored_transforms\u001b[38;5;241m=\u001b[39muse_stored_transforms,\n\u001b[0;32m    596\u001b[0m                        border_type\u001b[38;5;241m=\u001b[39mborder_type, border_size\u001b[38;5;241m=\u001b[39mborder_size,\n\u001b[0;32m    597\u001b[0m                        layer_func\u001b[38;5;241m=\u001b[39mlayer_func, playback\u001b[38;5;241m=\u001b[39mplayback,\n\u001b[0;32m    598\u001b[0m                        output_fourcc\u001b[38;5;241m=\u001b[39moutput_fourcc, progress_bar\u001b[38;5;241m=\u001b[39mbar, output_fps\u001b[38;5;241m=\u001b[39moutput_fps)\n",
      "File \u001b[1;32mc:\\Users\\MarkS9\\anaconda3\\envs\\fullPy\\Lib\\site-packages\\vidstab\\VidStab.py:275\u001b[0m, in \u001b[0;36mVidStab._apply_transforms\u001b[1;34m(self, output_path, max_frames, use_stored_transforms, output_fourcc, border_type, border_size, layer_func, playback, progress_bar, output_fps)\u001b[0m\n\u001b[0;32m    272\u001b[0m \u001b[38;5;28;01mif\u001b[39;00m \u001b[38;5;129;01mnot\u001b[39;00m use_stored_transforms:\n\u001b[0;32m    273\u001b[0m     \u001b[38;5;28mself\u001b[39m\u001b[38;5;241m.\u001b[39m_gen_next_raw_transform()\n\u001b[1;32m--> 275\u001b[0m transformed \u001b[38;5;241m=\u001b[39m \u001b[38;5;28mself\u001b[39m\u001b[38;5;241m.\u001b[39m_apply_next_transform(i, frame_i, use_stored_transforms\u001b[38;5;241m=\u001b[39muse_stored_transforms)\n\u001b[0;32m    277\u001b[0m \u001b[38;5;28;01mif\u001b[39;00m transformed \u001b[38;5;129;01mis\u001b[39;00m \u001b[38;5;28;01mNone\u001b[39;00m:\n\u001b[0;32m    278\u001b[0m     warnings\u001b[38;5;241m.\u001b[39mwarn(\u001b[38;5;124m'\u001b[39m\u001b[38;5;124mVideo is longer than available transformations; halting process.\u001b[39m\u001b[38;5;124m'\u001b[39m)\n",
      "File \u001b[1;32mc:\\Users\\MarkS9\\anaconda3\\envs\\fullPy\\Lib\\site-packages\\vidstab\\VidStab.py:389\u001b[0m, in \u001b[0;36mVidStab._apply_next_transform\u001b[1;34m(self, i, frame_i, use_stored_transforms)\u001b[0m\n\u001b[0;32m    387\u001b[0m \u001b[38;5;28;01mdef\u001b[39;00m \u001b[38;5;21m_apply_next_transform\u001b[39m(\u001b[38;5;28mself\u001b[39m, i, frame_i, use_stored_transforms\u001b[38;5;241m=\u001b[39m\u001b[38;5;28;01mFalse\u001b[39;00m):\n\u001b[0;32m    388\u001b[0m     \u001b[38;5;28;01mif\u001b[39;00m \u001b[38;5;129;01mnot\u001b[39;00m use_stored_transforms:\n\u001b[1;32m--> 389\u001b[0m         \u001b[38;5;28mself\u001b[39m\u001b[38;5;241m.\u001b[39m_gen_transforms()\n\u001b[0;32m    391\u001b[0m     \u001b[38;5;28;01mif\u001b[39;00m i \u001b[38;5;129;01mis\u001b[39;00m \u001b[38;5;28;01mNone\u001b[39;00m:\n\u001b[0;32m    392\u001b[0m         i \u001b[38;5;241m=\u001b[39m \u001b[38;5;28mself\u001b[39m\u001b[38;5;241m.\u001b[39mframe_queue\u001b[38;5;241m.\u001b[39minds\u001b[38;5;241m.\u001b[39mpopleft()\n",
      "File \u001b[1;32mc:\\Users\\MarkS9\\anaconda3\\envs\\fullPy\\Lib\\site-packages\\vidstab\\VidStab.py:303\u001b[0m, in \u001b[0;36mVidStab._gen_transforms\u001b[1;34m(self)\u001b[0m\n\u001b[0;32m    301\u001b[0m \u001b[38;5;28;01mdef\u001b[39;00m \u001b[38;5;21m_gen_transforms\u001b[39m(\u001b[38;5;28mself\u001b[39m):\n\u001b[0;32m    302\u001b[0m     \u001b[38;5;28mself\u001b[39m\u001b[38;5;241m.\u001b[39mtrajectory \u001b[38;5;241m=\u001b[39m np\u001b[38;5;241m.\u001b[39marray(\u001b[38;5;28mself\u001b[39m\u001b[38;5;241m.\u001b[39m_trajectory)\n\u001b[1;32m--> 303\u001b[0m     \u001b[38;5;28mself\u001b[39m\u001b[38;5;241m.\u001b[39msmoothed_trajectory \u001b[38;5;241m=\u001b[39m general_utils\u001b[38;5;241m.\u001b[39mbfill_rolling_mean(\u001b[38;5;28mself\u001b[39m\u001b[38;5;241m.\u001b[39mtrajectory, n\u001b[38;5;241m=\u001b[39m\u001b[38;5;28mself\u001b[39m\u001b[38;5;241m.\u001b[39m_smoothing_window)\n\u001b[0;32m    304\u001b[0m     \u001b[38;5;28mself\u001b[39m\u001b[38;5;241m.\u001b[39mtransforms \u001b[38;5;241m=\u001b[39m np\u001b[38;5;241m.\u001b[39marray(\u001b[38;5;28mself\u001b[39m\u001b[38;5;241m.\u001b[39m_raw_transforms) \u001b[38;5;241m+\u001b[39m (\u001b[38;5;28mself\u001b[39m\u001b[38;5;241m.\u001b[39msmoothed_trajectory \u001b[38;5;241m-\u001b[39m \u001b[38;5;28mself\u001b[39m\u001b[38;5;241m.\u001b[39mtrajectory)\n\u001b[0;32m    306\u001b[0m     \u001b[38;5;66;03m# Dump superfluous frames\u001b[39;00m\n\u001b[0;32m    307\u001b[0m     \u001b[38;5;66;03m# noinspection PyProtectedMember\u001b[39;00m\n",
      "File \u001b[1;32mc:\\Users\\MarkS9\\anaconda3\\envs\\fullPy\\Lib\\site-packages\\vidstab\\general_utils.py:8\u001b[0m, in \u001b[0;36mbfill_rolling_mean\u001b[1;34m(arr, n)\u001b[0m\n\u001b[0;32m      4\u001b[0m \u001b[38;5;28;01mimport\u001b[39;00m \u001b[38;5;21;01mimutils\u001b[39;00m\n\u001b[0;32m      5\u001b[0m \u001b[38;5;28;01mfrom\u001b[39;00m \u001b[38;5;21;01mprogress\u001b[39;00m\u001b[38;5;21;01m.\u001b[39;00m\u001b[38;5;21;01mbar\u001b[39;00m \u001b[38;5;28;01mimport\u001b[39;00m IncrementalBar\n\u001b[1;32m----> 8\u001b[0m \u001b[38;5;28;01mdef\u001b[39;00m \u001b[38;5;21mbfill_rolling_mean\u001b[39m(arr, n\u001b[38;5;241m=\u001b[39m\u001b[38;5;241m30\u001b[39m):\n\u001b[0;32m      9\u001b[0m \u001b[38;5;250m    \u001b[39m\u001b[38;5;124;03m\"\"\"Helper to perform trajectory smoothing\u001b[39;00m\n\u001b[0;32m     10\u001b[0m \n\u001b[0;32m     11\u001b[0m \u001b[38;5;124;03m    :param arr: Numpy array of frame trajectory to be smoothed\u001b[39;00m\n\u001b[1;32m   (...)\u001b[0m\n\u001b[0;32m     18\u001b[0m \u001b[38;5;124;03m           [2.5, 3.5, 4.5]])\u001b[39;00m\n\u001b[0;32m     19\u001b[0m \u001b[38;5;124;03m    \"\"\"\u001b[39;00m\n\u001b[0;32m     20\u001b[0m     \u001b[38;5;28;01mif\u001b[39;00m arr\u001b[38;5;241m.\u001b[39mshape[\u001b[38;5;241m0\u001b[39m] \u001b[38;5;241m<\u001b[39m n:\n",
      "\u001b[1;31mKeyboardInterrupt\u001b[0m: "
     ]
    }
   ],
   "source": [
    "from vidstab import VidStab\n",
    "\n",
    "stabilizer = VidStab()\n",
    "stabilizer.stabilize(input_path='W:\\Large_scale_mapping_NP\\lizards\\PV51\\PV51_Experiment_20_8_25\\Insertion1\\PV51_insertion1_Camera1_20250820-152602.mp4',\n",
    "                      output_path='W:\\Large_scale_mapping_NP\\lizards\\PV51\\PV51_Experiment_20_8_25\\Insertion1\\PV51_insertion1_Camera1_20250820-152602_stabilized.mp4')"
   ]
  }
 ],
 "metadata": {
  "kernelspec": {
   "display_name": "fullPy",
   "language": "python",
   "name": "python3"
  },
  "language_info": {
   "codemirror_mode": {
    "name": "ipython",
    "version": 3
   },
   "file_extension": ".py",
   "mimetype": "text/x-python",
   "name": "python",
   "nbconvert_exporter": "python",
   "pygments_lexer": "ipython3",
   "version": "3.12.3"
  }
 },
 "nbformat": 4,
 "nbformat_minor": 5
}
