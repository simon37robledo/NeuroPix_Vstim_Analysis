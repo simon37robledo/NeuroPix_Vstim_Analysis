{
 "cells": [
  {
   "cell_type": "code",
   "execution_count": 13,
   "metadata": {},
   "outputs": [
    {
     "name": "stdout",
     "output_type": "stream",
     "text": [
      "Collecting openpyxl\n",
      "  Downloading openpyxl-3.1.3-py2.py3-none-any.whl (251 kB)\n",
      "\u001b[K     |████████████████████████████████| 251 kB 1.3 MB/s eta 0:00:01\n",
      "\u001b[?25hCollecting et-xmlfile\n",
      "  Downloading et_xmlfile-1.1.0-py3-none-any.whl (4.7 kB)\n",
      "Installing collected packages: et-xmlfile, openpyxl\n",
      "Successfully installed et-xmlfile-1.1.0 openpyxl-3.1.3\n",
      "Note: you may need to restart the kernel to use updated packages.\n"
     ]
    }
   ],
   "source": [
    "pip install openpyxl"
   ]
  },
  {
   "cell_type": "code",
   "execution_count": 53,
   "metadata": {},
   "outputs": [],
   "source": [
    "import allensdk\n",
    "# from allensdk import brain_observatory\n",
    "import scipy\n",
    "from allensdk.brain_observatory import gaze_mapping\n",
    "import pandas as pd\n",
    "import os"
   ]
  },
  {
   "cell_type": "code",
   "execution_count": 32,
   "metadata": {},
   "outputs": [
    {
     "name": "stdout",
     "output_type": "stream",
     "text": [
      "/mnt/w/data/Large_scale_mapping_NP/lizards/PV97/PV97_Experiment_21_01_25/Videos\n",
      "/mnt/y/data/Large_scale_mapping_NP/lizards/PV97/PV97_Experiment_21_01_25/Videos\n"
     ]
    }
   ],
   "source": [
    "#Function to convert windoes paths into wsl path:\n",
    "import re\n",
    "\n",
    "def manual_windows_to_wsl(win_path):\n",
    "    \"\"\"Convert Windows path (drive letter or UNC) to a WSL path with custom network mapping.\"\"\"\n",
    "    \n",
    "    # Handle UNC paths (\\\\sil3\\data\\...)\n",
    "    if win_path.startswith(\"\\\\\\\\\"):\n",
    "        path = win_path.lstrip(\"\\\\\")  # Remove leading backslashes\n",
    "        path = path.replace(\"\\\\\", \"/\")  # Convert backslashes to forward slashes\n",
    "        \n",
    "        # Check if it's sil3 or sil1 and adjust the mapping\n",
    "        if \"sil3\" in path:\n",
    "            path = path.replace(\"sil3\", \"w\")\n",
    "        elif \"sil1\" in path:\n",
    "            path = path.replace(\"sil1\", \"y\")\n",
    "        \n",
    "        return f\"/mnt/{path}\"  # Directly map UNC paths to /mnt/w/... or /mnt/y/...\n",
    "\n",
    "    # Handle standard Windows paths with drive letters (C:\\...)\n",
    "    match = re.match(r\"([A-Za-z]):\\\\(.+)\", win_path)\n",
    "    if not match:\n",
    "        raise ValueError(f\"Invalid Windows path format: {win_path}\")\n",
    "    \n",
    "    drive, path = match.groups()\n",
    "    path = path.replace(\"\\\\\", \"/\")  # Convert backslashes to forward slashes\n",
    "    return f\"/mnt/{drive.lower()}/{path}\"\n",
    "\n",
    "# Example Usage\n",
    "network_path_sil3 = r\"\\\\sil3\\data\\Large_scale_mapping_NP\\lizards\\PV97\\PV97_Experiment_21_01_25\\Videos\"\n",
    "network_path_sil1 = r\"\\\\sil1\\data\\Large_scale_mapping_NP\\lizards\\PV97\\PV97_Experiment_21_01_25\\Videos\"\n",
    "\n",
    "# Convert UNC paths\n",
    "converted_sil3 = manual_windows_to_wsl(network_path_sil3)\n",
    "converted_sil1 = manual_windows_to_wsl(network_path_sil1)\n",
    "\n",
    "print(converted_sil3)  # Output: /mnt/w/data/Large_scale_mapping_NP/lizards/PV97/PV97_Experiment_21_01_25/Videos\n",
    "print(converted_sil1)  # Output: /mnt/y/data/Large_scale_mapping_NP/lizards/PV97/PV97_Experiment_21_01_25/Videos\n",
    "\n",
    "\n",
    "\n",
    "\n",
    "\n"
   ]
  },
  {
   "cell_type": "code",
   "execution_count": 5,
   "metadata": {},
   "outputs": [
    {
     "data": {
      "text/plain": [
       "Animal_ID                                                             PV97\n",
       "Species                                                       P. vitticeps\n",
       "Experiment_date                                                   21_01_25\n",
       "Base_path                  \\\\sil3\\data\\Large_scale_mapping_NP\\lizards\\PV97\n",
       "Exp_name                                          PV97_Experiment_21_01_25\n",
       "Insertion                                                                6\n",
       "Digital_channel                                                          1\n",
       "Diode_channel                                                            0\n",
       "Camera_bit                                                               5\n",
       "Sync_bit                                                                 6\n",
       "Probe                                                                NP2.0\n",
       "Reference                                                         External\n",
       "Dye                                                                 CM-Dii\n",
       "Dye_dips                                                               NaN\n",
       "VS_ordered                                            FFF,MBR,BB,MB,RG,SDG\n",
       "coor_X                                                                 NaN\n",
       "coor_Y                                                                 NaN\n",
       "coor_Z                                                                 NaN\n",
       "Micr_coor                                                              NaN\n",
       "Transf_coor                                                            NaN\n",
       "Angle                                                                  NaN\n",
       "Depth                                                                  NaN\n",
       "Negative_Z_after_zero                                                  NaN\n",
       "Craniotomy_im                                                          NaN\n",
       "CI_T                                                                   NaN\n",
       "Insertion_im                                                           NaN\n",
       "II_T                                                                   NaN\n",
       "Rec_start_time                                                         NaN\n",
       "Annotations                                                            NaN\n",
       "Eye_videos                                                      Yes, close\n",
       "Eye_video_dir            \\\\sil3\\data\\Large_scale_mapping_NP\\lizards\\PV9...\n",
       "EV_T                                                                   NaN\n",
       "Surgery_pics                                                           NaN\n",
       "SP_T                                                                   NaN\n",
       "Fluorescence_pics                                                      NaN\n",
       "FP_T                                                                   NaN\n",
       "Rerun_KS3                                                              NaN\n",
       "Remove_Spk_duplicates                                                  NaN\n",
       "Manual_curation                                                        NaN\n",
       "Histology                                                              NaN\n",
       "ResponseU                                                              NaN\n",
       "Matlab3Dcoor                                                           NaN\n",
       "Screen_Coor_XYZ                                                        NaN\n",
       "Eye_Coor_XYZ                                                           NaN\n",
       "Camera_Coor_XYZ                                                        NaN\n",
       "DLC_analysis                                                           NaN\n",
       "Phy_goodN                                                              NaN\n",
       "Name: 53, dtype: object"
      ]
     },
     "execution_count": 5,
     "metadata": {},
     "output_type": "execute_result"
    }
   ],
   "source": [
    "Data = pd.read_excel(r'/mnt/d/Mark_S13/Documents/GitHub/NeuroPix_Vstim_Analysis/Experiment_Excel.xlsx', engine='openpyxl') # Specify the engine explicitly\n",
    "Data.iloc[53]"
   ]
  },
  {
   "cell_type": "code",
   "execution_count": 29,
   "metadata": {},
   "outputs": [
    {
     "name": "stdout",
     "output_type": "stream",
     "text": [
      "/mnt/sil3/data/Large_scale_mapping_NP/lizards/PV97/PV97_Experiment_21_01_25/Videos\n"
     ]
    }
   ],
   "source": [
    "directory = manual_windows_to_wsl(Data['Eye_video_dir'][ex])\n",
    "print(directory)"
   ]
  },
  {
   "cell_type": "code",
   "execution_count": 51,
   "metadata": {},
   "outputs": [
    {
     "name": "stdout",
     "output_type": "stream",
     "text": [
      "# UNCONFIGURED FSTAB FOR BASE SYSTEM\n"
     ]
    }
   ],
   "source": [
    "!cat /etc/fstab"
   ]
  },
  {
   "cell_type": "code",
   "execution_count": 33,
   "metadata": {},
   "outputs": [
    {
     "ename": "FileNotFoundError",
     "evalue": "[Errno 2] No such file or directory: '/mnt/w/data/Large_scale_mapping_NP/lizards/PV97/PV97_Experiment_21_01_25/Videos'",
     "output_type": "error",
     "traceback": [
      "\u001b[0;31m---------------------------------------------------------------------------\u001b[0m",
      "\u001b[0;31mFileNotFoundError\u001b[0m                         Traceback (most recent call last)",
      "\u001b[0;32m<ipython-input-33-f98d5a51c603>\u001b[0m in \u001b[0;36m<module>\u001b[0;34m\u001b[0m\n\u001b[1;32m      1\u001b[0m \u001b[0mex\u001b[0m \u001b[0;34m=\u001b[0m \u001b[0;36m53\u001b[0m\u001b[0;34m\u001b[0m\u001b[0;34m\u001b[0m\u001b[0m\n\u001b[1;32m      2\u001b[0m \u001b[0mdirectory\u001b[0m \u001b[0;34m=\u001b[0m \u001b[0mmanual_windows_to_wsl\u001b[0m\u001b[0;34m(\u001b[0m\u001b[0mData\u001b[0m\u001b[0;34m[\u001b[0m\u001b[0;34m'Eye_video_dir'\u001b[0m\u001b[0;34m]\u001b[0m\u001b[0;34m[\u001b[0m\u001b[0mex\u001b[0m\u001b[0;34m]\u001b[0m\u001b[0;34m)\u001b[0m\u001b[0;34m\u001b[0m\u001b[0;34m\u001b[0m\u001b[0m\n\u001b[0;32m----> 3\u001b[0;31m \u001b[0mall_files\u001b[0m \u001b[0;34m=\u001b[0m \u001b[0mos\u001b[0m\u001b[0;34m.\u001b[0m\u001b[0mlistdir\u001b[0m\u001b[0;34m(\u001b[0m\u001b[0mdirectory\u001b[0m\u001b[0;34m)\u001b[0m\u001b[0;34m\u001b[0m\u001b[0;34m\u001b[0m\u001b[0m\n\u001b[0m\u001b[1;32m      4\u001b[0m filtered_files = [file for file in all_files if file.endswith('.csv') and 'filtered' in file and 'thr' not in file \n\u001b[1;32m      5\u001b[0m                       and \"_\"+str(Data['Insertion'][ex])+\"_\" in file and shuffle in file]\n",
      "\u001b[0;31mFileNotFoundError\u001b[0m: [Errno 2] No such file or directory: '/mnt/w/data/Large_scale_mapping_NP/lizards/PV97/PV97_Experiment_21_01_25/Videos'"
     ]
    }
   ],
   "source": [
    "ex = 53\n",
    "directory = manual_windows_to_wsl(Data['Eye_video_dir'][ex])\n",
    "all_files = os.listdir(directory)\n",
    "filtered_files = [file for file in all_files if file.endswith('.csv') and 'filtered' in file and 'thr' not in file \n",
    "                      and \"_\"+str(Data['Insertion'][ex])+\"_\" in file and shuffle in file]"
   ]
  },
  {
   "cell_type": "code",
   "execution_count": 6,
   "metadata": {},
   "outputs": [
    {
     "name": "stdout",
     "output_type": "stream",
     "text": [
      "[Errno 2] No such file or directory: '(/W:/data/Large_scale_mapping_NP/Experiment_Excel.xlsx)'\n",
      "/mnt/d/Mark_S13/Documents/GitHub/NeuroPix_Vstim_Analysis/Basic_pipeline/EyeVideoAnalysis\n"
     ]
    }
   ],
   "source": []
  },
  {
   "cell_type": "markdown",
   "metadata": {},
   "source": [
    "Parameters\n",
    "    ----------\n",
    "    pupil_parameters (pd.DataFrame): A table of pupil parameters with\n",
    "        5 columns (\"center_x\", \"center_y\", \"height\", \"phi\", \"width\")\n",
    "        and n-row timepoints.\n",
    "\n",
    "\n",
    "    cr_parameters (pd.DataFrame): A table of corneal reflection params with\n",
    "        5 columns (\"center_x\", \"center_y\", \"height\", \"phi\", \"width\")\n",
    "        and n-row timepoints.\n",
    "\n",
    "\n",
    "\n",
    "    eye_parameters (pd.DataFrame): A table of eye parameters with\n",
    "        5 columns (\"center_x\", \"center_y\", \"height\", \"phi\", \"width\")\n",
    "        and n-row timepoints.\n",
    "\n",
    "\n",
    "    monitor_position (np.ndarray): An array describing monitor position\n",
    "        [x, y, z]\n",
    "\n",
    "\n",
    "    monitor_rotations (np.ndarray): An array describing monitor orientation\n",
    "        about [x, y, z] axes.\n",
    "\n",
    "\n",
    "    camera_position (np.ndarray): An array describing camera position\n",
    "        [x, y, z]\n",
    "\n",
    "\n",
    "    camera_rotations (np.ndarray): An array describing camera orientation\n",
    "        about [x, y, z] axes.\n",
    "\n",
    "\n",
    "    led_position (np.ndarray): An array describing LED position [x, y, z]\n",
    "\n",
    "\n",
    "    eye_radius_cm (float): Radius of eye being tracked in cm.\n",
    "\n",
    "    \n",
    "    cm_per_pixel (float): Ratio of centimeters per pixel"
   ]
  },
  {
   "cell_type": "code",
   "execution_count": 174,
   "metadata": {},
   "outputs": [
    {
     "name": "stdout",
     "output_type": "stream",
     "text": [
      "          center_x    center_y     height       phi      width\n",
      "488036  311.982134  285.573685  35.169682 -0.227666  41.886168\n",
      "488037  311.973313  285.670784  35.133052 -0.231189  41.916593\n",
      "488038  311.964036  285.574410  35.166949 -0.225877  41.884258\n",
      "488039  311.957709  285.697944  35.126271 -0.226431  41.909346\n",
      "488040  311.957468  285.576244  35.187737 -0.220637  41.878863\n",
      "        center_x  center_y  height       phi  width\n",
      "488036       339       269       5 -0.301942      5\n",
      "488037       339       269       5 -0.301942      5\n",
      "488038       339       269       5 -0.301942      5\n",
      "488039       339       269       5 -0.301942      5\n",
      "488040       339       269       5 -0.301942      5\n"
     ]
    }
   ],
   "source": [
    "\n",
    "import pandas as pd\n",
    "import numpy as np\n",
    "\n",
    "# Set random seed for reproducibility\n",
    "np.random.seed(42)\n",
    "\n",
    "pupil_parameters = pd.read_csv(r'/mnt/d/Mark_S13/Documents/GitHub/NeuroPix_Vstim_Analysis/testFiles/PV97_1_Camera1_20250121-163645DLC_Resnet50_EyeTracking3Oct3shuffle4_snapshot_200_filtered_Eye_ellipse_thr_0.3_shuffle4.csv')\n",
    "\n",
    "pupil_parameters = pupil_parameters[ [\"center_x\", \"center_y\", \"height\", \"phi\", \"width\"]]\n",
    "\n",
    "\n",
    "print(pupil_parameters.tail())\n",
    "\n",
    "# Number of rows\n",
    "r = len(pupil_parameters)\n",
    "\n",
    "# Create the dataframe with specified parameters\n",
    "cr_parameters =  pd.DataFrame({\n",
    "    'center_x': np.full(r, 339),  # Constant x=290\n",
    "    'center_y': np.full(r, 269),  # Constant y=246\n",
    "    'height': np.full(r,5), #M1 = 1.2 / M2 =  2\n",
    "    'phi': np.full(r, np.radians(-17.3)),  # Constant phi=30\n",
    "    'width': np.full(r,5)  #M1 = 1.2 / M2 =  2 (measurement 1 and 2)\n",
    "    \n",
    "})\n",
    "\n",
    "# Display the first few rows\n",
    "print(cr_parameters.tail())\n",
    "\n",
    "\n",
    "    #eye_parameters (pd.DataFrame): A table of eye parameters with\n",
    "     #   5 columns (\"center_x\", \"center_y\", \"height\", \"phi\", \"width\")\n",
    "      #  and n-row timepoints.\n",
    "\n",
    "eye_parameters = pd.DataFrame({\n",
    "    'center_x': np.full(r, 315),  # Constant x=290\n",
    "    'center_y': np.full(r, 286),  # Constant y=246\n",
    "    'height': np.full(r,150), # Random height between 10 and 15\n",
    "    'phi': np.full(r, -0.05),  # Constant phi=30\n",
    "    'width': np.full(r,215)  # Random width between 20 and 23   \n",
    "})     \n",
    "\n",
    "#monitor_position (np.ndarray): An array describing monitor position\n",
    " #       [x, y, z]\n",
    "\n",
    "monitor_position = np.array([21.5, 1.7, 0,])\n",
    "\n",
    "#led_position = np.array([17, 20.5,-2]) #M1\n",
    "led_position = np.array([24, 18.8, 1.54])\n",
    "\n",
    "camera_position = np.array([26.5,4.5,23])\n",
    "\n",
    "#camera_rotations =(np.array([-17,3,-50])) #M1\n",
    "#camera_rotations =(np.array([-13,18,-51])) #M2\n",
    "#camera_rotations =np.radians(np.array([-51,13,-17.3])) #M3\n",
    "camera_rotations =np.radians(np.array([-51,13,-17.3])) #M3#\n",
    "\n",
    "#monitor_rotations = (np.array([0,18,0])) #M2\n",
    "monitor_rotations = np.radians(np.array([0,0,-17.3])) #M3\n",
    "\n",
    "eye_radius_cm = np.float(1)#(float): \n",
    "\n",
    "cm_per_pixel = np.float(0.0040) #(float): #camera \n",
    "\n",
    "\n",
    "\n",
    "\n"
   ]
  },
  {
   "cell_type": "code",
   "execution_count": 110,
   "metadata": {},
   "outputs": [
    {
     "data": {
      "text/plain": [
       "array([-0.29670597, -0.87266463,  0.05235988])"
      ]
     },
     "execution_count": 110,
     "metadata": {},
     "output_type": "execute_result"
    }
   ],
   "source": [
    "camera_rotations"
   ]
  },
  {
   "cell_type": "code",
   "execution_count": 172,
   "metadata": {},
   "outputs": [
    {
     "name": "stderr",
     "output_type": "stream",
     "text": [
      "/home/simon/miniconda3/envs/AllenSDKlinux/lib/python3.6/site-packages/numpy/core/_asarray.py:83: VisibleDeprecationWarning: Creating an ndarray from ragged nested sequences (which is a list-or-tuple of lists-or-tuples-or ndarrays with different lengths or shapes) is deprecated. If you meant to do this, you must specify 'dtype=object' when creating the ndarray\n",
      "  return array(a, dtype, copy=False, order=order)\n",
      "WARNING:root:Median absolute deviation is 0,falling back to standard deviation.\n"
     ]
    }
   ],
   "source": [
    "\n",
    "from allensdk.brain_observatory.gaze_mapping import __main__ as m\n",
    "MCSpupil = m.run_gaze_mapping(pupil_parameters = pupil_parameters, cr_parameters = cr_parameters, eye_parameters = eye_parameters, monitor_position = monitor_position, monitor_rotations = monitor_rotations, camera_position=camera_position, camera_rotations=camera_rotations, led_position=led_position, eye_radius_cm=eye_radius_cm,cm_per_pixel=cm_per_pixel)\n"
   ]
  },
  {
   "cell_type": "code",
   "execution_count": 139,
   "metadata": {},
   "outputs": [
    {
     "data": {
      "text/plain": [
       "{'raw_pupil_areas': 0         0.087477\n",
       " 1         0.087478\n",
       " 2         0.087477\n",
       " 3         0.087477\n",
       " 4         0.087477\n",
       "             ...   \n",
       " 488036    0.088188\n",
       " 488037    0.088316\n",
       " 488038    0.088180\n",
       " 488039    0.088286\n",
       " 488040    0.088158\n",
       " Length: 488041, dtype: float64,\n",
       " 'raw_eye_areas': 0         1.621062\n",
       " 1         1.621062\n",
       " 2         1.621062\n",
       " 3         1.621062\n",
       " 4         1.621062\n",
       "             ...   \n",
       " 488036    1.621062\n",
       " 488037    1.621062\n",
       " 488038    1.621062\n",
       " 488039    1.621062\n",
       " 488040    1.621062\n",
       " Length: 488041, dtype: float64,\n",
       " 'raw_pupil_on_monitor_cm':          x_pos_cm   y_pos_cm\n",
       " 0       23.201075 -18.758343\n",
       " 1       23.203200 -18.761449\n",
       " 2       23.203538 -18.761607\n",
       " 3       23.203538 -18.761607\n",
       " 4       23.203538 -18.761607\n",
       " ...           ...        ...\n",
       " 488036  23.370528 -18.751597\n",
       " 488037  23.375133 -18.758305\n",
       " 488038  23.369972 -18.752541\n",
       " 488039  23.375991 -18.760833\n",
       " 488040  23.369849 -18.752985\n",
       " \n",
       " [488041 rows x 2 columns],\n",
       " 'raw_pupil_on_monitor_deg':         x_pos_deg  y_pos_deg\n",
       " 0       47.090281 -30.633009\n",
       " 1       47.092898 -30.635934\n",
       " 2       47.093314 -30.635949\n",
       " 3       47.093314 -30.635949\n",
       " 4       47.093314 -30.635949\n",
       " ...           ...        ...\n",
       " 488036  47.298144 -30.525688\n",
       " 488037  47.303770 -30.531987\n",
       " 488038  47.297464 -30.527272\n",
       " 488039  47.304817 -30.534869\n",
       " 488040  47.297314 -30.527937\n",
       " \n",
       " [488041 rows x 2 columns],\n",
       " 'new_pupil_areas': 0         0.087477\n",
       " 1         0.087478\n",
       " 2         0.087477\n",
       " 3         0.087477\n",
       " 4         0.087477\n",
       "             ...   \n",
       " 488036    0.088188\n",
       " 488037    0.088316\n",
       " 488038    0.088180\n",
       " 488039    0.088286\n",
       " 488040    0.088158\n",
       " Length: 488041, dtype: float64,\n",
       " 'new_eye_areas': 0         1.621062\n",
       " 1         1.621062\n",
       " 2         1.621062\n",
       " 3         1.621062\n",
       " 4         1.621062\n",
       "             ...   \n",
       " 488036    1.621062\n",
       " 488037    1.621062\n",
       " 488038    1.621062\n",
       " 488039    1.621062\n",
       " 488040    1.621062\n",
       " Length: 488041, dtype: float64,\n",
       " 'new_pupil_on_monitor_cm':          x_pos_cm   y_pos_cm\n",
       " 0       23.201075 -18.758343\n",
       " 1       23.203200 -18.761449\n",
       " 2       23.203538 -18.761607\n",
       " 3       23.203538 -18.761607\n",
       " 4       23.203538 -18.761607\n",
       " ...           ...        ...\n",
       " 488036  23.370528 -18.751597\n",
       " 488037  23.375133 -18.758305\n",
       " 488038  23.369972 -18.752541\n",
       " 488039  23.375991 -18.760833\n",
       " 488040  23.369849 -18.752985\n",
       " \n",
       " [488041 rows x 2 columns],\n",
       " 'new_pupil_on_monitor_deg':         x_pos_deg  y_pos_deg\n",
       " 0       47.090281 -30.633009\n",
       " 1       47.092898 -30.635934\n",
       " 2       47.093314 -30.635949\n",
       " 3       47.093314 -30.635949\n",
       " 4       47.093314 -30.635949\n",
       " ...           ...        ...\n",
       " 488036  47.298144 -30.525688\n",
       " 488037  47.303770 -30.531987\n",
       " 488038  47.297464 -30.527272\n",
       " 488039  47.304817 -30.534869\n",
       " 488040  47.297314 -30.527937\n",
       " \n",
       " [488041 rows x 2 columns]}"
      ]
     },
     "execution_count": 139,
     "metadata": {},
     "output_type": "execute_result"
    }
   ],
   "source": [
    "MCSpupil"
   ]
  },
  {
   "cell_type": "code",
   "execution_count": 173,
   "metadata": {},
   "outputs": [
    {
     "name": "stdout",
     "output_type": "stream",
     "text": [
      "x_pos_cm   -19.115394\n",
      "y_pos_cm   -46.632123\n",
      "dtype: float64\n"
     ]
    }
   ],
   "source": [
    "meanPupilPos = np.mean(MCSpupil[\"new_pupil_on_monitor_cm\"])\n",
    "print(meanPupilPos)\n"
   ]
  },
  {
   "cell_type": "code",
   "execution_count": null,
   "metadata": {},
   "outputs": [
    {
     "name": "stdout",
     "output_type": "stream",
     "text": [
      "Estimated Ellipse Parameters:\n",
      "Width: 16.175982727077233 cm\n",
      "Height: 4.921463226481798 cm\n",
      "Orientation: 16.905724939215826 degrees\n"
     ]
    },
    {
     "data": {
      "image/png": "[encoded data removed]",
      "text/plain": [
       "<Figure size 864x432 with 2 Axes>"
      ]
     },
     "metadata": {
      "needs_background": "light"
     },
     "output_type": "display_data"
    }
   ],
   "source": [
    "###Possible solution??? to implement camera x and y rotations. \\\n",
    "# To transform ellipse as if looked through the Z normal, no rotations:\n",
    "\n",
    "\n",
    "import numpy as np\n",
    "import matplotlib.pyplot as plt\n",
    "\n",
    "# -------------------------------\n",
    "# Define Ellipse Parameters\n",
    "# -------------------------------\n",
    "phi = np.radians(30)  # Ellipse orientation (radians)\n",
    "w = 10  # Width of ellipse in cm\n",
    "h = 5   # Height of ellipse in cm\n",
    "xc, yc, zc = 0, 0, 0  # Ellipse center\n",
    "\n",
    "# Camera Rotation Angles (in radians)\n",
    "theta_x = np.radians(-51)  # Pitch (X-axis rotation)\n",
    "theta_y = np.radians(-13)  # Yaw (Y-axis rotation)\n",
    "theta_z = np.radians(90)   # Roll (Z-axis rotation)\n",
    "\n",
    "# Camera Position\n",
    "x_cam, y_cam, z_cam = 20, 10, 30\n",
    "\n",
    "# Known real-world size per pixel (cm per pixel)\n",
    "s = 0.05  # Example: 1 pixel = 0.05 cm\n",
    "\n",
    "# -------------------------------\n",
    "# Generate the 3D Ellipse\n",
    "# -------------------------------\n",
    "t = np.linspace(0, 2 * np.pi, 100)  # Parameter for ellipse\n",
    "X = xc + (w / 2) * np.cos(t) * np.cos(phi) - (h / 2) * np.sin(t) * np.sin(phi)\n",
    "Y = yc + (w / 2) * np.cos(t) * np.sin(phi) + (h / 2) * np.sin(t) * np.cos(phi)\n",
    "Z = zc * np.ones_like(t)  # Assume the ellipse is in the XY plane\n",
    "\n",
    "# -------------------------------\n",
    "# Apply 3D Rotation to Align with Camera\n",
    "# -------------------------------\n",
    "# Rotation Matrices\n",
    "Rx = np.array([[1, 0, 0],\n",
    "               [0, np.cos(theta_x), -np.sin(theta_x)],\n",
    "               [0, np.sin(theta_x), np.cos(theta_x)]])\n",
    "Ry = np.array([[np.cos(theta_y), 0, np.sin(theta_y)],\n",
    "               [0, 1, 0],\n",
    "               [-np.sin(theta_y), 0, np.cos(theta_y)]])\n",
    "Rz = np.array([[np.cos(theta_z), -np.sin(theta_z), 0],\n",
    "               [np.sin(theta_z), np.cos(theta_z), 0],\n",
    "               [0, 0, 1]])\n",
    "\n",
    "# Full Rotation Matrix (Z * Y * X)\n",
    "R = np.dot(np.dot(Rz, Ry), Rx)\n",
    "\n",
    "# Apply Rotation\n",
    "rotated_coords = np.dot(R, np.array([X - xc, Y - yc, Z - zc]))\n",
    "\n",
    "Xr = rotated_coords[0, :] + xc\n",
    "Yr = rotated_coords[1, :] + yc\n",
    "Zr = rotated_coords[2, :] + zc\n",
    "\n",
    "# -------------------------------\n",
    "# Perspective Projection Using Known Pixel Size\n",
    "# -------------------------------\n",
    "X_pix = (Xr - x_cam) / (s * (Zr - z_cam))  # Convert X to pixel space\n",
    "Y_pix = (Yr - y_cam) / (s * (Zr - z_cam))  # Convert Y to pixel space\n",
    "\n",
    "# -------------------------------\n",
    "# Inverse Perspective Projection (Recover 3D coordinates)\n",
    "# -------------------------------\n",
    "# Estimate depth Z (assumed for this example, can be calculated based on scene)\n",
    "Z_est = 50  # Estimate depth (in cm)\n",
    "\n",
    "# Convert pixel coordinates to world coordinates using the inverse projection\n",
    "X_world = X_pix * s * Z_est + x_cam\n",
    "Y_world = Y_pix * s * Z_est + y_cam\n",
    "Z_world = np.full_like(X_pix, Z_est)  # Constant depth assumption\n",
    "\n",
    "# -------------------------------\n",
    "# Inverse Camera Rotation\n",
    "# -------------------------------\n",
    "# Inverse Rotation Matrix (transpose of R)\n",
    "R_inv = np.transpose(R)\n",
    "\n",
    "# Apply inverse rotation to the world coordinates\n",
    "world_coords = np.dot(R_inv, np.array([X_world - x_cam, Y_world - y_cam, Z_world - z_cam]))\n",
    "\n",
    "X_world_rot = world_coords[0, :] + xc\n",
    "Y_world_rot = world_coords[1, :] + yc\n",
    "Z_world_rot = world_coords[2, :] + zc\n",
    "\n",
    "# -------------------------------\n",
    "# Estimate Ellipse Parameters (Width, Height, Orientation)\n",
    "# -------------------------------\n",
    "# Width and Height: Compute the range of X and Y coordinates\n",
    "ellipse_width = np.max(X_world_rot) - np.min(X_world_rot)\n",
    "ellipse_height = np.max(Y_world_rot) - np.min(Y_world_rot)\n",
    "\n",
    "# Orientation: Calculate angle of the major axis (principal axis of ellipse)\n",
    "cov_matrix = np.cov(X_world_rot, Y_world_rot)\n",
    "eigenvalues, eigenvectors = np.linalg.eig(cov_matrix)\n",
    "major_axis = eigenvectors[:, np.argmax(eigenvalues)]\n",
    "\n",
    "# Orientation angle (relative to X axis)\n",
    "orientation_angle = np.arctan2(major_axis[1], major_axis[0])\n",
    "\n",
    "# Convert to degrees\n",
    "orientation_angle_deg = np.degrees(orientation_angle)\n",
    "\n",
    "# -------------------------------\n",
    "# Output Results\n",
    "# -------------------------------\n",
    "print(f\"Estimated Ellipse Parameters:\")\n",
    "print(f\"Width: {ellipse_width} cm\")\n",
    "print(f\"Height: {ellipse_height} cm\")\n",
    "print(f\"Orientation: {orientation_angle_deg} degrees\")\n",
    "\n",
    "# -------------------------------\n",
    "# Plot Results (Before and After)\n",
    "# -------------------------------\n",
    "fig, axs = plt.subplots(1, 2, figsize=(12, 6))\n",
    "\n",
    "# Plot the original 3D ellipse\n",
    "axs[0].plot(X, Y, 'b', label='Original Ellipse')\n",
    "axs[0].set_title(\"Original Ellipse (3D)\")\n",
    "axs[0].axis('equal')\n",
    "axs[0].grid(True)\n",
    "axs[0].set_xlabel('X (cm)')\n",
    "axs[0].set_ylabel('Y (cm)')\n",
    "axs[0].legend()\n",
    "\n",
    "# Plot the recovered ellipse (projected to 3D space)\n",
    "axs[1].plot(X_world_rot, Y_world_rot, 'r', label='Recovered Ellipse')\n",
    "axs[1].set_title(\"Recovered Ellipse (after inverse projection)\")\n",
    "axs[1].axis('equal')\n",
    "axs[1].grid(True)\n",
    "axs[1].set_xlabel('X (cm)')\n",
    "axs[1].set_ylabel('Y (cm)')\n",
    "axs[1].legend()\n",
    "\n",
    "plt.tight_layout()\n",
    "plt.show()\n",
    "\n",
    "\n"
   ]
  },
  {
   "cell_type": "markdown",
   "metadata": {},
   "source": [
    "x_pos_cm   -19.115394\n",
    "y_pos_cm   -46.632123\n",
    "dtype: float64"
   ]
  }
 ],
 "metadata": {
  "kernelspec": {
   "display_name": "AllenSDKlinux",
   "language": "python",
   "name": "python3"
  },
  "language_info": {
   "codemirror_mode": {
    "name": "ipython",
    "version": 3
   },
   "file_extension": ".py",
   "mimetype": "text/x-python",
   "name": "python",
   "nbconvert_exporter": "python",
   "pygments_lexer": "ipython3",
   "version": "3.6.13"
  }
 },
 "nbformat": 4,
 "nbformat_minor": 2
}
